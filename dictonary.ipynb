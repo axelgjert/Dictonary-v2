{
 "metadata": {
  "language_info": {
   "codemirror_mode": {
    "name": "ipython",
    "version": 3
   },
   "file_extension": ".py",
   "mimetype": "text/x-python",
   "name": "python",
   "nbconvert_exporter": "python",
   "pygments_lexer": "ipython3",
   "version": "3.9.1-final"
  },
  "orig_nbformat": 2,
  "kernelspec": {
   "name": "python3",
   "display_name": "Python 3.9.1 64-bit",
   "metadata": {
    "interpreter": {
     "hash": "05d1bb149cc2fb4afed2d44bf3e21218131befa4015f9b0ac302032f83c5e1b7"
    }
   }
  }
 },
 "nbformat": 4,
 "nbformat_minor": 2,
 "cells": [
  {
   "cell_type": "code",
   "execution_count": 9,
   "metadata": {},
   "outputs": [
    {
     "output_type": "stream",
     "name": "stdout",
     "text": [
      "{'namn': 'Axel', 'ålder': 17, 'yrke': 'Elev', 'arbetsplats': 'NTI'}\nPersonens namn är Axel\nHan är 17 år gammal\nAxel jobbar som Elev på skolan NTI\n"
     ]
    }
   ],
   "source": [
    "person = dict(\n",
    "    namn = \"Axel\",\n",
    "    ålder = 17,\n",
    "    yrke = \"Elev\",\n",
    "    arbetsplats = \"NTI\"\n",
    ")\n",
    "\n",
    "print(person)\n",
    "\n",
    "print(f\"Personens namn är {person['namn']}\")\n",
    "print(f\"Han är {person['ålder']} år gammal\")\n",
    "print(f\"{person['namn']} jobbar som {person['yrke']} på skolan {person['arbetsplats']}\")\n"
   ]
  },
  {
   "cell_type": "code",
   "execution_count": 8,
   "metadata": {},
   "outputs": [
    {
     "output_type": "stream",
     "name": "stdout",
     "text": [
      "Orden vi ska lära oss är: \ntilldela, datastruktur, sträng, dictionary, \n\nGlosa \t\t Betydelse\ntilldela  \t ge ett värde till en variabel\ndatastruktur  \t struktuering av data\nsträng  \t sekvens av tecken\ndictionary  \t datastruktur för att spara data i key:value par\n"
     ]
    }
   ],
   "source": [
    "glosor = {\n",
    "    \"tilldela\":\"ge ett värde till en variabel\",\n",
    "    \"datastruktur\":\"struktuering av data\",\n",
    "    \"sträng\": \"sekvens av tecken\"\n",
    "}\n",
    "\n",
    "glosor[\"dictionary\"] = \"datastruktur för att spara data i key:value par\"\n",
    "\n",
    "\n",
    "print(\"Orden vi ska lära oss är: \")\n",
    "\n",
    "for key in glosor:\n",
    "    print(key, end =\", \")\n",
    "\n",
    "print(\"\\n\\nGlosa \\t\\t Betydelse\")\n",
    "\n",
    "for key, value in glosor.items():\n",
    "    print(f\"{key}  \\t {value}\")"
   ]
  },
  {
   "cell_type": "code",
   "execution_count": 24,
   "metadata": {},
   "outputs": [
    {
     "output_type": "stream",
     "name": "stdout",
     "text": [
      "{'Matte3c': 100, 'Engelska': 100, 'Programmering': 100, 'Webbutveckling': 100, 'Svenska': 100, 'Tillämpad': 100, 'DaoDac': 100, 'Idrott': 100, 'Fysik': 100}\n"
     ]
    },
    {
     "output_type": "error",
     "ename": "KeyError",
     "evalue": "'poäng'",
     "traceback": [
      "\u001b[1;31m---------------------------------------------------------------------------\u001b[0m",
      "\u001b[1;31mKeyError\u001b[0m                                  Traceback (most recent call last)",
      "\u001b[1;32m<ipython-input-24-5267bfdfbd13>\u001b[0m in \u001b[0;36m<module>\u001b[1;34m\u001b[0m\n\u001b[0;32m     13\u001b[0m \u001b[0mpoäng\u001b[0m \u001b[1;33m=\u001b[0m \u001b[0mKurser\u001b[0m\u001b[1;33m\u001b[0m\u001b[1;33m\u001b[0m\u001b[0m\n\u001b[0;32m     14\u001b[0m \u001b[0mprint\u001b[0m\u001b[1;33m(\u001b[0m\u001b[0mKurser\u001b[0m\u001b[1;33m)\u001b[0m\u001b[1;33m\u001b[0m\u001b[1;33m\u001b[0m\u001b[0m\n\u001b[1;32m---> 15\u001b[1;33m \u001b[0mprint\u001b[0m\u001b[1;33m(\u001b[0m\u001b[1;34mf\"Om man adderar ihop alla kursernas poäng så har Axel samlat ihop {Kurser['poäng']} \"\u001b[0m\u001b[1;33m)\u001b[0m\u001b[1;33m\u001b[0m\u001b[1;33m\u001b[0m\u001b[0m\n\u001b[0m",
      "\u001b[1;31mKeyError\u001b[0m: 'poäng'"
     ]
    }
   ],
   "source": [
    "\n",
    "Kurser = dict(\n",
    "    Matte3c = 100,\n",
    "    Engelska = 100,\n",
    "    Programmering = 100,    \n",
    "    Webbutveckling = 100, \n",
    "    Svenska = 100,\n",
    "    Tillämpad = 100,\n",
    "    DaoDac = 100,\n",
    "    Idrott = 100,\n",
    "    Fysik = 100\n",
    ")\n",
    "\n",
    "print(Kurser)\n",
    "print(f\"Om man adderar ihop alla kursernas poäng så har Axel samlat ihop {Kurser['']} \")\n"
   ]
  },
  {
   "cell_type": "code",
   "execution_count": 12,
   "metadata": {},
   "outputs": [
    {
     "output_type": "stream",
     "name": "stdout",
     "text": [
      "{'Ma3c': 100, 'Prog1': 100, 'Sv2': 100, 'Web1': 100, 'Fys1': 100, 'Eng6': 100, 'Daodac1': 100, 'Idr1': 100, 'TillämpadProg': 100}\nNär Axel har avslutat sina kurser kommer han ha samlat ihop 900 poäng.\n"
     ]
    }
   ],
   "source": [
    "poäng = 0\n",
    "\n",
    "kurser = dict(\n",
    "    Ma3c = 100,\n",
    "    Prog1 = 100,\n",
    "    Sv2 = 100,\n",
    "    Web1 = 100,\n",
    "    Fys1 = 100,\n",
    "    Eng6 = 100,\n",
    "    Daodac1 = 100,\n",
    "    Idr1 = 100,\n",
    "    TillProg = 100,\n",
    "    \n",
    ")\n",
    "\n",
    "for key in kurser: \n",
    "    poäng = poäng + kurser[key]\n",
    "print(kurser)\n",
    "print(f\"När Axel har avslutat sina kurser kommer han ha samlat ihop {poäng} poäng.\")"
   ]
  },
  {
   "cell_type": "code",
   "execution_count": 11,
   "metadata": {
    "tags": []
   },
   "outputs": [
    {
     "output_type": "stream",
     "name": "stdout",
     "text": [
      "Ettor:\t 1670\nTvåor:\t 1655\nTreor:\t 1683\nFyror:\t 1640\nFemmor:\t 1712\nSexor:\t 1640\n"
     ]
    }
   ],
   "source": [
    "# Tärningskast\n",
    "\n",
    "import random as rnd\n",
    "\n",
    "nummer = {\n",
    "    \"Ettor\": 0,\n",
    "    \"Tvåor\": 0,\n",
    "    \"Treor\": 0,\n",
    "    \"Fyror\": 0,\n",
    "    \"Femmor\": 0,\n",
    "    \"Sexor\": 0,\n",
    "}\n",
    "\n",
    "for i in range(10000):\n",
    "    tärning = rnd.randint(1,6)\n",
    "    if tärning == 1:\n",
    "        nummer[\"Ettor\"] += 1\n",
    "    if tärning == 2:\n",
    "        nummer[\"Tvåor\"] += 1\n",
    "    if tärning == 3:\n",
    "        nummer[\"Treor\"] += 1\n",
    "    if tärning == 4:\n",
    "        nummer[\"Fyror\"] += 1\n",
    "    if tärning == 5:\n",
    "        nummer[\"Femmor\"] += 1\n",
    "    if tärning == 6:\n",
    "        nummer[\"Sexor\"] += 1\n",
    "\n",
    "for key, value in nummer.items():\n",
    "    print(f\"{key}:\\t {value}\")\n",
    "#print(f\"Antal Ettor: {nummer['Ettor']}, Antal Tvåor: {nummer['Tvåor']}\")\n"
   ]
  },
  {
   "cell_type": "code",
   "execution_count": null,
   "metadata": {},
   "outputs": [],
   "source": [
    "#uppgift 3 pokémon\n",
    "\n",
    "with open(\"pokemonlista.txt\", \"r+\") as f:\n"
   ]
  }
 ]
}